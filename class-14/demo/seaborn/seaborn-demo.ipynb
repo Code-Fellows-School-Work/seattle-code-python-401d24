{
 "cells": [
  {
   "cell_type": "markdown",
   "id": "a7089595",
   "metadata": {
    "papermill": {
     "duration": 0.009113,
     "end_time": "2023-01-05T01:50:28.931761",
     "exception": false,
     "start_time": "2023-01-05T01:50:28.922648",
     "status": "completed"
    },
    "tags": []
   },
   "source": [
    "# Seaborn stands on shoulders of Matplotlib\n",
    "\n",
    "- You can (and often want) to use Matplotlib\n",
    "- Firs, let's import Matplotlib library - comes preinstalled on Kaggle"
   ]
  },
  {
   "cell_type": "code",
   "execution_count": null,
   "id": "de29ac2e",
   "metadata": {
    "execution": {
     "iopub.execute_input": "2023-01-05T01:50:28.950606Z",
     "iopub.status.busy": "2023-01-05T01:50:28.949999Z",
     "iopub.status.idle": "2023-01-05T01:50:28.958916Z",
     "shell.execute_reply": "2023-01-05T01:50:28.957632Z"
    },
    "papermill": {
     "duration": 0.020819,
     "end_time": "2023-01-05T01:50:28.960931",
     "exception": false,
     "start_time": "2023-01-05T01:50:28.940112",
     "status": "completed"
    },
    "tags": []
   },
   "outputs": [],
   "source": [
    "import matplotlib.pyplot as plt"
   ]
  },
  {
   "cell_type": "markdown",
   "id": "1a6b2d4e",
   "metadata": {
    "papermill": {
     "duration": 0.007834,
     "end_time": "2023-01-05T01:50:28.977125",
     "exception": false,
     "start_time": "2023-01-05T01:50:28.969291",
     "status": "completed"
    },
    "tags": []
   },
   "source": [
    "- Let's plot some lines"
   ]
  },
  {
   "cell_type": "code",
   "execution_count": null,
   "id": "5e3d3b2b",
   "metadata": {
    "execution": {
     "iopub.execute_input": "2023-01-05T01:50:28.996201Z",
     "iopub.status.busy": "2023-01-05T01:50:28.995838Z",
     "iopub.status.idle": "2023-01-05T01:50:29.200742Z",
     "shell.execute_reply": "2023-01-05T01:50:29.199623Z"
    },
    "papermill": {
     "duration": 0.216749,
     "end_time": "2023-01-05T01:50:29.203364",
     "exception": false,
     "start_time": "2023-01-05T01:50:28.986615",
     "status": "completed"
    },
    "tags": []
   },
   "outputs": [],
   "source": [
    "def plot_some_lines():\n",
    "    plt.figure()\n",
    "    x1 = [10,20,5,40,8]\n",
    "    x2 = [30,43,9,7,20]\n",
    "    plt.plot(x1, label=\"Group Spam\")\n",
    "    plt.plot(x2, label=\"Group Eggs\")\n",
    "    plt.legend()\n",
    "    plt.show()\n",
    "\n",
    "plot_some_lines()"
   ]
  },
  {
   "cell_type": "markdown",
   "id": "59dca17c",
   "metadata": {
    "papermill": {
     "duration": 0.008444,
     "end_time": "2023-01-05T01:50:29.220546",
     "exception": false,
     "start_time": "2023-01-05T01:50:29.212102",
     "status": "completed"
    },
    "tags": []
   },
   "source": [
    "- Doesn't look too bad. But let's try out Seaborn"
   ]
  },
  {
   "cell_type": "code",
   "execution_count": null,
   "id": "e9055694",
   "metadata": {
    "execution": {
     "iopub.execute_input": "2023-01-05T01:50:29.239560Z",
     "iopub.status.busy": "2023-01-05T01:50:29.239177Z",
     "iopub.status.idle": "2023-01-05T01:50:30.180466Z",
     "shell.execute_reply": "2023-01-05T01:50:30.179133Z"
    },
    "papermill": {
     "duration": 0.953754,
     "end_time": "2023-01-05T01:50:30.183006",
     "exception": false,
     "start_time": "2023-01-05T01:50:29.229252",
     "status": "completed"
    },
    "tags": []
   },
   "outputs": [],
   "source": [
    "import seaborn as sns"
   ]
  },
  {
   "cell_type": "markdown",
   "id": "f316a5fa",
   "metadata": {
    "papermill": {
     "duration": 0.008325,
     "end_time": "2023-01-05T01:50:30.200122",
     "exception": false,
     "start_time": "2023-01-05T01:50:30.191797",
     "status": "completed"
    },
    "tags": []
   },
   "source": [
    "- Seaborn can take over from Matplotlib very easily."
   ]
  },
  {
   "cell_type": "code",
   "execution_count": null,
   "id": "01dfbb6a",
   "metadata": {
    "execution": {
     "iopub.execute_input": "2023-01-05T01:50:30.218805Z",
     "iopub.status.busy": "2023-01-05T01:50:30.218468Z",
     "iopub.status.idle": "2023-01-05T01:50:30.223880Z",
     "shell.execute_reply": "2023-01-05T01:50:30.222775Z"
    },
    "papermill": {
     "duration": 0.017198,
     "end_time": "2023-01-05T01:50:30.225736",
     "exception": false,
     "start_time": "2023-01-05T01:50:30.208538",
     "status": "completed"
    },
    "tags": []
   },
   "outputs": [],
   "source": [
    "sns.set()"
   ]
  },
  {
   "cell_type": "markdown",
   "id": "8e5681f0",
   "metadata": {
    "papermill": {
     "duration": 0.008377,
     "end_time": "2023-01-05T01:50:30.242675",
     "exception": false,
     "start_time": "2023-01-05T01:50:30.234298",
     "status": "completed"
    },
    "tags": []
   },
   "source": [
    "- Seaborn has taken control of the figure's aesthetics.\n",
    "- Now show the matplotlib plots again with Seaborn in charge."
   ]
  },
  {
   "cell_type": "code",
   "execution_count": null,
   "id": "dd3c7478",
   "metadata": {
    "execution": {
     "iopub.execute_input": "2023-01-05T01:50:30.261061Z",
     "iopub.status.busy": "2023-01-05T01:50:30.260516Z",
     "iopub.status.idle": "2023-01-05T01:50:30.459201Z",
     "shell.execute_reply": "2023-01-05T01:50:30.458188Z"
    },
    "papermill": {
     "duration": 0.21014,
     "end_time": "2023-01-05T01:50:30.461038",
     "exception": false,
     "start_time": "2023-01-05T01:50:30.250898",
     "status": "completed"
    },
    "tags": []
   },
   "outputs": [],
   "source": [
    "plot_some_lines()"
   ]
  },
  {
   "cell_type": "markdown",
   "id": "772597fb",
   "metadata": {
    "papermill": {
     "duration": 0.008775,
     "end_time": "2023-01-05T01:50:30.478630",
     "exception": false,
     "start_time": "2023-01-05T01:50:30.469855",
     "status": "completed"
    },
    "tags": []
   },
   "source": [
    "## Seaborn has some very handy data sets built in"
   ]
  },
  {
   "cell_type": "code",
   "execution_count": null,
   "id": "2a428b65",
   "metadata": {
    "execution": {
     "iopub.execute_input": "2023-01-05T01:50:30.500221Z",
     "iopub.status.busy": "2023-01-05T01:50:30.499104Z",
     "iopub.status.idle": "2023-01-05T01:50:30.874895Z",
     "shell.execute_reply": "2023-01-05T01:50:30.873538Z"
    },
    "papermill": {
     "duration": 0.390505,
     "end_time": "2023-01-05T01:50:30.877945",
     "exception": false,
     "start_time": "2023-01-05T01:50:30.487440",
     "status": "completed"
    },
    "tags": []
   },
   "outputs": [],
   "source": [
    "sns.get_dataset_names()"
   ]
  },
  {
   "cell_type": "markdown",
   "id": "75ea29c6",
   "metadata": {
    "papermill": {
     "duration": 0.009061,
     "end_time": "2023-01-05T01:50:30.896502",
     "exception": false,
     "start_time": "2023-01-05T01:50:30.887441",
     "status": "completed"
    },
    "tags": []
   },
   "source": [
    "- And we can use them just like a dataframe that came from a CSV"
   ]
  },
  {
   "cell_type": "code",
   "execution_count": null,
   "id": "fb043a04",
   "metadata": {
    "execution": {
     "iopub.execute_input": "2023-01-05T01:50:30.916905Z",
     "iopub.status.busy": "2023-01-05T01:50:30.916522Z",
     "iopub.status.idle": "2023-01-05T01:50:31.165936Z",
     "shell.execute_reply": "2023-01-05T01:50:31.164088Z"
    },
    "papermill": {
     "duration": 0.262979,
     "end_time": "2023-01-05T01:50:31.168682",
     "exception": false,
     "start_time": "2023-01-05T01:50:30.905703",
     "status": "completed"
    },
    "tags": []
   },
   "outputs": [],
   "source": [
    "mpg_df = sns.load_dataset(\"mpg\")\n",
    "mpg_df.head()"
   ]
  },
  {
   "cell_type": "markdown",
   "id": "2cf789ad",
   "metadata": {
    "papermill": {
     "duration": 0.008901,
     "end_time": "2023-01-05T01:50:31.186759",
     "exception": false,
     "start_time": "2023-01-05T01:50:31.177858",
     "status": "completed"
    },
    "tags": []
   },
   "source": [
    "## Seaborn has many types of easy to use plots\n",
    "\n",
    "- Look how easy it is to render a \"count plot\""
   ]
  },
  {
   "cell_type": "code",
   "execution_count": null,
   "id": "db01bb9c",
   "metadata": {
    "execution": {
     "iopub.execute_input": "2023-01-05T01:50:31.206924Z",
     "iopub.status.busy": "2023-01-05T01:50:31.206570Z",
     "iopub.status.idle": "2023-01-05T01:50:31.382900Z",
     "shell.execute_reply": "2023-01-05T01:50:31.381644Z"
    },
    "papermill": {
     "duration": 0.18951,
     "end_time": "2023-01-05T01:50:31.385677",
     "exception": false,
     "start_time": "2023-01-05T01:50:31.196167",
     "status": "completed"
    },
    "tags": []
   },
   "outputs": [],
   "source": [
    "countplot = sns.countplot(data=mpg_df, x=\"cylinders\")"
   ]
  },
  {
   "cell_type": "markdown",
   "id": "d14f43e3",
   "metadata": {
    "papermill": {
     "duration": 0.010013,
     "end_time": "2023-01-05T01:50:31.405389",
     "exception": false,
     "start_time": "2023-01-05T01:50:31.395376",
     "status": "completed"
    },
    "tags": []
   },
   "source": [
    "## Let's Check Some Assumptions\n"
   ]
  },
  {
   "cell_type": "code",
   "execution_count": null,
   "id": "4554f0a7",
   "metadata": {
    "execution": {
     "iopub.execute_input": "2023-01-05T01:50:31.426787Z",
     "iopub.status.busy": "2023-01-05T01:50:31.426399Z",
     "iopub.status.idle": "2023-01-05T01:50:31.575002Z",
     "shell.execute_reply": "2023-01-05T01:50:31.574346Z"
    },
    "papermill": {
     "duration": 0.161824,
     "end_time": "2023-01-05T01:50:31.577022",
     "exception": false,
     "start_time": "2023-01-05T01:50:31.415198",
     "status": "completed"
    },
    "tags": []
   },
   "outputs": [],
   "source": [
    "four_cylinders = mpg_df[ mpg_df.cylinders == 4 ]\n",
    "by_origin = four_cylinders.groupby(\"origin\", as_index=False)\n",
    "mpg_by_origin = by_origin.mpg.mean()\n",
    "barplot = sns.barplot(x=\"origin\", y=\"mpg\", data=mpg_by_origin)"
   ]
  },
  {
   "cell_type": "code",
   "execution_count": null,
   "id": "ec328281",
   "metadata": {
    "execution": {
     "iopub.execute_input": "2023-01-05T01:50:31.598114Z",
     "iopub.status.busy": "2023-01-05T01:50:31.597601Z",
     "iopub.status.idle": "2023-01-05T01:50:31.902671Z",
     "shell.execute_reply": "2023-01-05T01:50:31.901735Z"
    },
    "papermill": {
     "duration": 0.318042,
     "end_time": "2023-01-05T01:50:31.904689",
     "exception": false,
     "start_time": "2023-01-05T01:50:31.586647",
     "status": "completed"
    },
    "tags": []
   },
   "outputs": [],
   "source": [
    "avg_mpg = mpg_df.groupby(\"model_year\", as_index=False).mpg.mean()\n",
    "relplot = sns.relplot(x=\"model_year\", y=\"mpg\", data=avg_mpg)"
   ]
  },
  {
   "cell_type": "markdown",
   "id": "e2682693",
   "metadata": {
    "papermill": {
     "duration": 0.009642,
     "end_time": "2023-01-05T01:50:31.924185",
     "exception": false,
     "start_time": "2023-01-05T01:50:31.914543",
     "status": "completed"
    },
    "tags": []
   },
   "source": [
    "## Enough of cars, let's take to the skies"
   ]
  },
  {
   "cell_type": "code",
   "execution_count": null,
   "id": "ff72c82d",
   "metadata": {
    "execution": {
     "iopub.execute_input": "2023-01-05T01:50:31.947370Z",
     "iopub.status.busy": "2023-01-05T01:50:31.946626Z",
     "iopub.status.idle": "2023-01-05T01:50:32.208850Z",
     "shell.execute_reply": "2023-01-05T01:50:32.207702Z"
    },
    "papermill": {
     "duration": 0.277148,
     "end_time": "2023-01-05T01:50:32.211636",
     "exception": false,
     "start_time": "2023-01-05T01:50:31.934488",
     "status": "completed"
    },
    "tags": []
   },
   "outputs": [],
   "source": [
    "flights = sns.load_dataset(\"flights\")\n",
    "flights.tail()"
   ]
  },
  {
   "cell_type": "code",
   "execution_count": null,
   "id": "b85b6f2c",
   "metadata": {
    "execution": {
     "iopub.execute_input": "2023-01-05T01:50:32.233472Z",
     "iopub.status.busy": "2023-01-05T01:50:32.233103Z",
     "iopub.status.idle": "2023-01-05T01:50:33.013973Z",
     "shell.execute_reply": "2023-01-05T01:50:33.012502Z"
    },
    "papermill": {
     "duration": 0.794879,
     "end_time": "2023-01-05T01:50:33.016658",
     "exception": false,
     "start_time": "2023-01-05T01:50:32.221779",
     "status": "completed"
    },
    "tags": []
   },
   "outputs": [],
   "source": [
    "flights_plot = sns.relplot(x=\"year\",y=\"passengers\", data=flights, hue=\"month\")"
   ]
  },
  {
   "cell_type": "markdown",
   "id": "a99d508b",
   "metadata": {
    "papermill": {
     "duration": 0.009957,
     "end_time": "2023-01-05T01:50:33.037146",
     "exception": false,
     "start_time": "2023-01-05T01:50:33.027189",
     "status": "completed"
    },
    "tags": []
   },
   "source": [
    "- Let's consolidate the data by combining months"
   ]
  },
  {
   "cell_type": "code",
   "execution_count": null,
   "id": "e8a7b9d0",
   "metadata": {
    "execution": {
     "iopub.execute_input": "2023-01-05T01:50:33.059870Z",
     "iopub.status.busy": "2023-01-05T01:50:33.059473Z",
     "iopub.status.idle": "2023-01-05T01:50:33.337726Z",
     "shell.execute_reply": "2023-01-05T01:50:33.336556Z"
    },
    "papermill": {
     "duration": 0.292248,
     "end_time": "2023-01-05T01:50:33.339832",
     "exception": false,
     "start_time": "2023-01-05T01:50:33.047584",
     "status": "completed"
    },
    "tags": []
   },
   "outputs": [],
   "source": [
    "year_sums = flights.groupby(\"year\", as_index=False).passengers.sum()\n",
    "sums_plot = sns.relplot(x=\"year\",y=\"passengers\", data=year_sums)"
   ]
  },
  {
   "cell_type": "markdown",
   "id": "149ba104",
   "metadata": {
    "papermill": {
     "duration": 0.010167,
     "end_time": "2023-01-05T01:50:33.360781",
     "exception": false,
     "start_time": "2023-01-05T01:50:33.350614",
     "status": "completed"
    },
    "tags": []
   },
   "source": [
    "- We can make some predictions, but let Seaborn handle the boilerplate Linear Model part.\n",
    "- lmplot to the rescue"
   ]
  },
  {
   "cell_type": "code",
   "execution_count": null,
   "id": "157c9ca8",
   "metadata": {
    "execution": {
     "iopub.execute_input": "2023-01-05T01:50:33.383815Z",
     "iopub.status.busy": "2023-01-05T01:50:33.383458Z",
     "iopub.status.idle": "2023-01-05T01:50:33.751067Z",
     "shell.execute_reply": "2023-01-05T01:50:33.750228Z"
    },
    "papermill": {
     "duration": 0.382052,
     "end_time": "2023-01-05T01:50:33.753431",
     "exception": false,
     "start_time": "2023-01-05T01:50:33.371379",
     "status": "completed"
    },
    "tags": []
   },
   "outputs": [],
   "source": [
    "sums_lmplot = sns.lmplot(x=\"year\",y=\"passengers\",data=year_sums)"
   ]
  },
  {
   "cell_type": "markdown",
   "id": "68f6a588",
   "metadata": {
    "papermill": {
     "duration": 0.010228,
     "end_time": "2023-01-05T01:50:33.774426",
     "exception": false,
     "start_time": "2023-01-05T01:50:33.764198",
     "status": "completed"
    },
    "tags": []
   },
   "source": [
    "- Apparently more people are flying year over year (unless there's a pandemic)\n",
    "- But do those visualizations best convey that notion? Or are there better choices available?\n",
    "- How much work would it take to use another type of graph in Seaborn?\n",
    "- Let's try a Bar Plot instead..."
   ]
  },
  {
   "cell_type": "code",
   "execution_count": null,
   "id": "2b0dd8bf",
   "metadata": {
    "execution": {
     "iopub.execute_input": "2023-01-05T01:50:33.797757Z",
     "iopub.status.busy": "2023-01-05T01:50:33.797380Z",
     "iopub.status.idle": "2023-01-05T01:50:34.231810Z",
     "shell.execute_reply": "2023-01-05T01:50:34.230672Z"
    },
    "papermill": {
     "duration": 0.448771,
     "end_time": "2023-01-05T01:50:34.233781",
     "exception": false,
     "start_time": "2023-01-05T01:50:33.785010",
     "status": "completed"
    },
    "tags": []
   },
   "outputs": [],
   "source": [
    "barplot = sns.barplot(x=\"year\", y=\"passengers\", data=flights)"
   ]
  },
  {
   "cell_type": "markdown",
   "id": "45cd1f96",
   "metadata": {
    "papermill": {
     "duration": 0.012894,
     "end_time": "2023-01-05T01:50:34.257866",
     "exception": false,
     "start_time": "2023-01-05T01:50:34.244972",
     "status": "completed"
    },
    "tags": []
   },
   "source": [
    "- How hard is it to swap out month for year as the x variable?\n",
    "  - Spoiler alert, not hard at all."
   ]
  },
  {
   "cell_type": "code",
   "execution_count": null,
   "id": "f4645c66",
   "metadata": {
    "execution": {
     "iopub.execute_input": "2023-01-05T01:50:34.283193Z",
     "iopub.status.busy": "2023-01-05T01:50:34.282181Z",
     "iopub.status.idle": "2023-01-05T01:50:34.727371Z",
     "shell.execute_reply": "2023-01-05T01:50:34.726044Z"
    },
    "papermill": {
     "duration": 0.460657,
     "end_time": "2023-01-05T01:50:34.730240",
     "exception": false,
     "start_time": "2023-01-05T01:50:34.269583",
     "status": "completed"
    },
    "tags": []
   },
   "outputs": [],
   "source": [
    "by_month = sns.barplot(x=\"month\", y=\"passengers\", data=flights)"
   ]
  },
  {
   "cell_type": "markdown",
   "id": "2e90264d",
   "metadata": {
    "papermill": {
     "duration": 0.011129,
     "end_time": "2023-01-05T01:50:34.753071",
     "exception": false,
     "start_time": "2023-01-05T01:50:34.741942",
     "status": "completed"
    },
    "tags": []
   },
   "source": [
    "- What are those black lines jutting out the top? That's called the confidence interval\n",
    "- You can modify (or remove) them if you like"
   ]
  },
  {
   "cell_type": "code",
   "execution_count": null,
   "id": "9eb595bd",
   "metadata": {
    "execution": {
     "iopub.execute_input": "2023-01-05T01:50:34.777264Z",
     "iopub.status.busy": "2023-01-05T01:50:34.776863Z",
     "iopub.status.idle": "2023-01-05T01:50:35.009651Z",
     "shell.execute_reply": "2023-01-05T01:50:35.008547Z"
    },
    "papermill": {
     "duration": 0.247726,
     "end_time": "2023-01-05T01:50:35.012110",
     "exception": false,
     "start_time": "2023-01-05T01:50:34.764384",
     "status": "completed"
    },
    "tags": []
   },
   "outputs": [],
   "source": [
    "by_month_no_ci=sns.barplot(x=\"month\",y=\"passengers\", data=flights, errorbar=None)"
   ]
  },
  {
   "cell_type": "markdown",
   "id": "bdcce4ab",
   "metadata": {
    "papermill": {
     "duration": 0.011594,
     "end_time": "2023-01-05T01:50:35.035817",
     "exception": false,
     "start_time": "2023-01-05T01:50:35.024223",
     "status": "completed"
    },
    "tags": []
   },
   "source": [
    "## The Importance of Plotting Data\n",
    "\n",
    "- Plotting data isn't just for good looks, seeing data visually can spot problems that are tougher spot with the raw data.\n",
    "- The famous [Ancombe's Quartet](https://en.wikipedia.org/wiki/Anscombe%27s_quartet) data set demonstrates this point."
   ]
  },
  {
   "cell_type": "code",
   "execution_count": null,
   "id": "6fbc63d3",
   "metadata": {
    "execution": {
     "iopub.execute_input": "2023-01-05T01:50:35.061949Z",
     "iopub.status.busy": "2023-01-05T01:50:35.061126Z",
     "iopub.status.idle": "2023-01-05T01:50:35.309607Z",
     "shell.execute_reply": "2023-01-05T01:50:35.308243Z"
    },
    "papermill": {
     "duration": 0.263947,
     "end_time": "2023-01-05T01:50:35.311772",
     "exception": false,
     "start_time": "2023-01-05T01:50:35.047825",
     "status": "completed"
    },
    "tags": []
   },
   "outputs": [],
   "source": [
    "anscombe = sns.load_dataset(\"anscombe\")\n",
    "anscombe"
   ]
  },
  {
   "cell_type": "markdown",
   "id": "a8a4bc2b",
   "metadata": {
    "papermill": {
     "duration": 0.012228,
     "end_time": "2023-01-05T01:50:35.335941",
     "exception": false,
     "start_time": "2023-01-05T01:50:35.323713",
     "status": "completed"
    },
    "tags": []
   },
   "source": [
    "- Anscombe's quartet comprises four data sets that have nearly identical simple descriptive statistics, yet have very different distributions and appear very different when graphed. "
   ]
  },
  {
   "cell_type": "code",
   "execution_count": null,
   "id": "33ac13f2",
   "metadata": {
    "execution": {
     "iopub.execute_input": "2023-01-05T01:50:35.362688Z",
     "iopub.status.busy": "2023-01-05T01:50:35.361924Z",
     "iopub.status.idle": "2023-01-05T01:50:35.683572Z",
     "shell.execute_reply": "2023-01-05T01:50:35.682138Z"
    },
    "papermill": {
     "duration": 0.338199,
     "end_time": "2023-01-05T01:50:35.686485",
     "exception": false,
     "start_time": "2023-01-05T01:50:35.348286",
     "status": "completed"
    },
    "tags": []
   },
   "outputs": [],
   "source": [
    "from sklearn.linear_model import LinearRegression\n",
    "datasets = [\"I\",\"II\",\"III\",\"IV\"]\n",
    "\n",
    "for dataset in datasets:\n",
    "    print(\"Dataset\", dataset)\n",
    "    data=anscombe.query(f\"dataset == '{dataset}'\")\n",
    "\n",
    "    am = LinearRegression().fit(data.x.values.reshape(-1,1), data.y.values)\n",
    "    print(am.coef_)\n",
    "    print(am.intercept_)"
   ]
  },
  {
   "cell_type": "markdown",
   "id": "b43ac9f8",
   "metadata": {
    "papermill": {
     "duration": 0.011748,
     "end_time": "2023-01-05T01:50:35.710530",
     "exception": false,
     "start_time": "2023-01-05T01:50:35.698782",
     "status": "completed"
    },
    "tags": []
   },
   "source": [
    "- All 4 Datasets can be described in such a way that they seem quite similar. \n",
    "- Check how closely the numbers match across the data sets"
   ]
  },
  {
   "cell_type": "markdown",
   "id": "0f8194fa",
   "metadata": {
    "papermill": {
     "duration": 0.011448,
     "end_time": "2023-01-05T01:50:35.734071",
     "exception": false,
     "start_time": "2023-01-05T01:50:35.722623",
     "status": "completed"
    },
    "tags": []
   },
   "source": [
    "## But how these similar seeming datasets look when visualized?"
   ]
  },
  {
   "cell_type": "markdown",
   "id": "c58487cb",
   "metadata": {
    "papermill": {
     "duration": 0.011813,
     "end_time": "2023-01-05T01:50:35.757927",
     "exception": false,
     "start_time": "2023-01-05T01:50:35.746114",
     "status": "completed"
    },
    "tags": []
   },
   "source": [
    "### Data Set 1"
   ]
  },
  {
   "cell_type": "code",
   "execution_count": null,
   "id": "caf4079b",
   "metadata": {
    "execution": {
     "iopub.execute_input": "2023-01-05T01:50:35.783939Z",
     "iopub.status.busy": "2023-01-05T01:50:35.783121Z",
     "iopub.status.idle": "2023-01-05T01:50:36.109151Z",
     "shell.execute_reply": "2023-01-05T01:50:36.108025Z"
    },
    "papermill": {
     "duration": 0.341274,
     "end_time": "2023-01-05T01:50:36.111121",
     "exception": false,
     "start_time": "2023-01-05T01:50:35.769847",
     "status": "completed"
    },
    "tags": []
   },
   "outputs": [],
   "source": [
    "sns.regplot(x='x', y='y', data=anscombe.query(\"dataset == 'I'\"))"
   ]
  },
  {
   "cell_type": "markdown",
   "id": "e6d7b8c3",
   "metadata": {
    "papermill": {
     "duration": 0.012966,
     "end_time": "2023-01-05T01:50:36.137798",
     "exception": false,
     "start_time": "2023-01-05T01:50:36.124832",
     "status": "completed"
    },
    "tags": []
   },
   "source": [
    "### Data Set 2"
   ]
  },
  {
   "cell_type": "code",
   "execution_count": null,
   "id": "632fb17d",
   "metadata": {
    "execution": {
     "iopub.execute_input": "2023-01-05T01:50:36.164353Z",
     "iopub.status.busy": "2023-01-05T01:50:36.163767Z",
     "iopub.status.idle": "2023-01-05T01:50:36.486240Z",
     "shell.execute_reply": "2023-01-05T01:50:36.485054Z"
    },
    "papermill": {
     "duration": 0.338441,
     "end_time": "2023-01-05T01:50:36.488575",
     "exception": false,
     "start_time": "2023-01-05T01:50:36.150134",
     "status": "completed"
    },
    "tags": []
   },
   "outputs": [],
   "source": [
    "sns.regplot(x='x', y='y', data=anscombe.query(\"dataset == 'II'\"), order=2)"
   ]
  },
  {
   "cell_type": "markdown",
   "id": "6b78ed93",
   "metadata": {
    "papermill": {
     "duration": 0.012106,
     "end_time": "2023-01-05T01:50:36.513384",
     "exception": false,
     "start_time": "2023-01-05T01:50:36.501278",
     "status": "completed"
    },
    "tags": []
   },
   "source": [
    "### Data Set 3"
   ]
  },
  {
   "cell_type": "code",
   "execution_count": null,
   "id": "37dc0b9a",
   "metadata": {
    "execution": {
     "iopub.execute_input": "2023-01-05T01:50:36.540478Z",
     "iopub.status.busy": "2023-01-05T01:50:36.539821Z",
     "iopub.status.idle": "2023-01-05T01:50:37.127536Z",
     "shell.execute_reply": "2023-01-05T01:50:37.126159Z"
    },
    "papermill": {
     "duration": 0.604255,
     "end_time": "2023-01-05T01:50:37.130163",
     "exception": false,
     "start_time": "2023-01-05T01:50:36.525908",
     "status": "completed"
    },
    "tags": []
   },
   "outputs": [],
   "source": [
    "sns.lmplot(x=\"x\", y=\"y\", data=anscombe.query(\"dataset == 'III'\"),\n",
    "           robust=True, ci=None, scatter_kws={\"s\": 80})"
   ]
  },
  {
   "cell_type": "markdown",
   "id": "7e84bdff",
   "metadata": {
    "papermill": {
     "duration": 0.013789,
     "end_time": "2023-01-05T01:50:37.157233",
     "exception": false,
     "start_time": "2023-01-05T01:50:37.143444",
     "status": "completed"
    },
    "tags": []
   },
   "source": [
    "### Data Set 4"
   ]
  },
  {
   "cell_type": "code",
   "execution_count": null,
   "id": "61c27dd0",
   "metadata": {
    "execution": {
     "iopub.execute_input": "2023-01-05T01:50:37.184748Z",
     "iopub.status.busy": "2023-01-05T01:50:37.184359Z",
     "iopub.status.idle": "2023-01-05T01:50:37.519923Z",
     "shell.execute_reply": "2023-01-05T01:50:37.518621Z"
    },
    "papermill": {
     "duration": 0.352493,
     "end_time": "2023-01-05T01:50:37.522606",
     "exception": false,
     "start_time": "2023-01-05T01:50:37.170113",
     "status": "completed"
    },
    "tags": []
   },
   "outputs": [],
   "source": [
    "sns.lmplot(x=\"x\", y=\"y\", data=anscombe.query(\"dataset == 'IV'\"),ci=None, scatter_kws={\"s\": 80})"
   ]
  },
  {
   "cell_type": "markdown",
   "id": "ae35f1d4",
   "metadata": {
    "execution": {
     "iopub.execute_input": "2023-01-05T01:49:04.939450Z",
     "iopub.status.busy": "2023-01-05T01:49:04.938285Z",
     "iopub.status.idle": "2023-01-05T01:49:04.945476Z",
     "shell.execute_reply": "2023-01-05T01:49:04.943863Z",
     "shell.execute_reply.started": "2023-01-05T01:49:04.939377Z"
    },
    "papermill": {
     "duration": 0.012858,
     "end_time": "2023-01-05T01:50:37.549439",
     "exception": false,
     "start_time": "2023-01-05T01:50:37.536581",
     "status": "completed"
    },
    "tags": []
   },
   "source": [
    "## In summary, ALWAYS plot your data"
   ]
  }
 ],
 "metadata": {
  "kernelspec": {
   "display_name": "Python 3",
   "language": "python",
   "name": "python3"
  },
  "language_info": {
   "codemirror_mode": {
    "name": "ipython",
    "version": 3
   },
   "file_extension": ".py",
   "mimetype": "text/x-python",
   "name": "python",
   "nbconvert_exporter": "python",
   "pygments_lexer": "ipython3",
   "version": "3.12.1"
  },
  "papermill": {
   "default_parameters": {},
   "duration": 17.391575,
   "end_time": "2023-01-05T01:50:38.386117",
   "environment_variables": {},
   "exception": null,
   "input_path": "__notebook__.ipynb",
   "output_path": "__notebook__.ipynb",
   "parameters": {},
   "start_time": "2023-01-05T01:50:20.994542",
   "version": "2.3.4"
  }
 },
 "nbformat": 4,
 "nbformat_minor": 5
}
